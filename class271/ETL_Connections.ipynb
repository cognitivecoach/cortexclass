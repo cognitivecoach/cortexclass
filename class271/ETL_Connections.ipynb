{
 "cells": [
  {
   "cell_type": "markdown",
   "metadata": {},
   "source": [
    "## Building Cortex Datasets from Connections"
   ]
  },
  {
   "cell_type": "code",
   "execution_count": null,
   "metadata": {},
   "outputs": [],
   "source": [
    "from cortex_client import ConnectionClient\n",
    "import cortex_client"
   ]
  },
  {
   "cell_type": "code",
   "execution_count": null,
   "metadata": {},
   "outputs": [],
   "source": [
    "TOKEN = !jq -r \".profiles.\\\"$(jq -r '.currentProfile' ~/.cortex/config)\\\".token\" ~/.cortex/config\n",
    "TOKEN = TOKEN[0]\n",
    "\n",
    "URL = !jq -r \".profiles.\\\"$(jq -r '.currentProfile' ~/.cortex/config)\\\".url\" ~/.cortex/config\n",
    "URL =URL[0] \n"
   ]
  },
  {
   "cell_type": "code",
   "execution_count": null,
   "metadata": {},
   "outputs": [],
   "source": [
    "!jq -r \".profiles.\\\"$(jq -r '.currentProfile' ~/.cortex/config)\\\".account\" ~/.cortex/config"
   ]
  },
  {
   "cell_type": "code",
   "execution_count": null,
   "metadata": {},
   "outputs": [],
   "source": [
    "cc = ConnectionClient(URL, \"2\" , TOKEN)"
   ]
  },
  {
   "cell_type": "code",
   "execution_count": null,
   "metadata": {},
   "outputs": [],
   "source": [
    "cc.save_connection({\n",
    "  \"name\": \"ab/connection\",\n",
    "  \"title\": \"Real Estate\",\n",
    "  \"description\": \"Real Estate\",\n",
    "  \"connectionType\": \"mongo\",\n",
    "  \"allowWrite\": True,\n",
    "  \"params\": [\n",
    "      {\n",
    "          \"name\": \"mongoUri\",\n",
    "          \"value\": \"mongodb+srv://<USR>:<Password>@<dbserver>.mongodb.net/<dbname>?retryWrites=true\"\n",
    "      }\n",
    "  ]\n",
    "})\n"
   ]
  },
  {
   "cell_type": "code",
   "execution_count": null,
   "metadata": {},
   "outputs": [],
   "source": [
    "!cortex content download --secure connections/ab/connection"
   ]
  },
  {
   "cell_type": "code",
   "execution_count": null,
   "metadata": {},
   "outputs": [],
   "source": [
    "! cortex connections describe ab/connection"
   ]
  },
  {
   "cell_type": "code",
   "execution_count": null,
   "metadata": {},
   "outputs": [],
   "source": [
    "types = {\n",
    "\t\"types\": [\n",
    "\t\t{\n",
    "    \"name\": \"cortex/RealestateRF\",\n",
    "    \"camel\": \"1.0.0\",\n",
    "    \"title\": \"RealestateRF\",\n",
    "    \"parameters\": [\n",
    "        {\"name\": \"crim\", \"type\": \"number\"},\n",
    "        {\"name\": \"zn\", \"type\": \"number\"},\n",
    "        {\"name\": \"indus\", \"type\": \"number\"},\n",
    "        {\"name\": \"chas\", \"type\": \"integer\"},\n",
    "        {\"name\": \"nox\", \"type\": \"number\"},\n",
    "        {\"name\": \"rm\", \"type\": \"number\"},\n",
    "        {\"name\": \"age\", \"type\": \"number\"},\n",
    "        {\"name\": \"dis\", \"type\": \"number\"},\n",
    "        {\"name\": \"rad\", \"type\": \"number\"},\n",
    "        {\"name\": \"tax\", \"type\": \"number\"},\n",
    "        {\"name\": \"ptratio\", \"type\": \"number\"},\n",
    "        {\"name\": \"b\", \"type\": \"number\"},\n",
    "        {\"name\": \"lstat\", \"type\": \"number\"},\n",
    "        {\"name\": \"medv\", \"type\": \"number\"}\n",
    "    ]\n",
    "}\n",
    "]\n",
    "}\n"
   ]
  },
  {
   "cell_type": "code",
   "execution_count": null,
   "metadata": {},
   "outputs": [],
   "source": [
    "tc = cortex_client.CatalogClient(URL, \"3\" , TOKEN)"
   ]
  },
  {
   "cell_type": "code",
   "execution_count": null,
   "metadata": {},
   "outputs": [],
   "source": [
    "dataset = {\n",
    "\t\"camel\": \"1.0.0\",\n",
    "\t\"name\": \"real-estate/connection\",\n",
    "\t\"title\": \"Real Estate Data\",\n",
    "\t\"description\": \"RealEstate Connection\",\n",
    "\t\"parameters\": {\n",
    "\t\t\"$ref\": \"cortex/RealestateRF\"\n",
    "\t},\n",
    "\t\"connectionName\": \"ab/connection\",\n",
    "\t\"connectionQuery\": [\n",
    "\t\t{\n",
    "\t\t\t\"name\": \"collection\",\n",
    "\t\t\t\"value\": \"boston_housing_data\"\n",
    "\t\t},\n",
    "\t\t{\n",
    "\t\t\t\"name\": \"filter\",\n",
    "\t\t\t\"value\": \"{}\"\n",
    "\t\t}\n",
    "\t]\n",
    "}"
   ]
  },
  {
   "cell_type": "code",
   "execution_count": null,
   "metadata": {},
   "outputs": [],
   "source": [
    "dc = cortex_client.DatasetsClient(URL, \"3\" , TOKEN)\n"
   ]
  },
  {
   "cell_type": "code",
   "execution_count": null,
   "metadata": {},
   "outputs": [],
   "source": [
    "dc.save_dataset(dataset)\n"
   ]
  },
  {
   "cell_type": "code",
   "execution_count": null,
   "metadata": {},
   "outputs": [],
   "source": [
    "dc.get_stream(\"real-estate/connection\").read()"
   ]
  },
  {
   "cell_type": "code",
   "execution_count": null,
   "metadata": {},
   "outputs": [],
   "source": []
  }
 ],
 "metadata": {
  "kernelspec": {
   "display_name": "Python 3",
   "language": "python",
   "name": "python3"
  },
  "language_info": {
   "codemirror_mode": {
    "name": "ipython",
    "version": 3
   },
   "file_extension": ".py",
   "mimetype": "text/x-python",
   "name": "python",
   "nbconvert_exporter": "python",
   "pygments_lexer": "ipython3",
   "version": "3.6.6"
  }
 },
 "nbformat": 4,
 "nbformat_minor": 2
}
