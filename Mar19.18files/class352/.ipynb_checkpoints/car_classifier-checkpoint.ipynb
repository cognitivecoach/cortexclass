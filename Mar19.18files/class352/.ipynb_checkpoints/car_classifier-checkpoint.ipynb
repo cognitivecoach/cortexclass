{
 "cells": [
  {
   "cell_type": "markdown",
   "metadata": {},
   "source": [
    "# Building the Car Make and Model Classifier [Algorithmia]\n",
    "This notebook demonstrates how to wrap an API call into a skill"
   ]
  },
  {
   "cell_type": "markdown",
   "metadata": {},
   "source": [
    "Prerequisites: An Algorithmia account/API Key. One can register for free at https://algorithmia.com.\n",
    "\n",
    "Once your account is activated, click on your profile at the top right and select \"My API Keys\". Copy the key labeled \"default-key\"."
   ]
  },
  {
   "cell_type": "code",
   "execution_count": null,
   "metadata": {},
   "outputs": [],
   "source": [
    "# Common Setup\n",
    "%run setup.ipynb"
   ]
  },
  {
   "cell_type": "markdown",
   "metadata": {},
   "source": [
    "## Building a Cortex Action using iPython Magic\n",
    "The Cortex Action is a self-contained code modeule that encapsulates a task - in other words, it is a function in computer science terms.  It can be a short running service, long running batch job, or stateful microservice.  For our simple \"Hello World\" example, we can create our Action using a function and leverage the __%%cortex_action__ iPython cell magic to automatically deploy it to the Cortex Cloud."
   ]
  },
  {
   "cell_type": "markdown",
   "metadata": {},
   "source": [
    "This pushes the action to the c12e private registry for your tenant. "
   ]
  },
  {
   "cell_type": "markdown",
   "metadata": {},
   "source": [
    "We will be passing our image URL and Algorithmia API Key as part of the payload. Once we retrieve these, we simple do the function call through the Algorithmia API to get our result\n",
    "\n",
    "The flag '--requirements Algorithmia' tells the backend to 'pip install' Algorithmia into the docker container. This flag should be used when libraries must be installed before they can be imported.\n",
    "\n",
    "Make sure to replace 'your_initials' with your initials to prevent namespace issues."
   ]
  },
  {
   "cell_type": "code",
   "execution_count": null,
   "metadata": {},
   "outputs": [],
   "source": [
    "%%cortex_action --name 'class/car-classifier-<your_initials>' --function car_classifier --requirements Algorithmia\n",
    "\n",
    "from cortex import Message\n",
    "import Algorithmia\n",
    "\n",
    "def car_classifier(params):\n",
    "    msg = Message(params)\n",
    "    image = msg.payload.get('image_url')\n",
    "    api_key = msg.properties.get('api_key')\n",
    "    client = Algorithmia.client(api_key)\n",
    "    algo = client.algo('LgoBE/CarMakeandModelRecognition/0.3.15')\n",
    "    return Message.with_payload({'Result': (algo.pipe(image).result)}).to_params()"
   ]
  },
  {
   "cell_type": "markdown",
   "metadata": {},
   "source": [
    "### Testing Actions\n",
    "Using the Cortex client, we can test our Action to make sure it deployed properly.\n",
    "\n",
    "Make sure to replace 'your_initials' with your initials to prevent namespace issues."
   ]
  },
  {
   "cell_type": "code",
   "execution_count": null,
   "metadata": {},
   "outputs": [],
   "source": [
    "# Instantiate Cortex Client\n",
    "cortex = Cortex.client()\n",
    "\n",
    "# Retrieve our Action that was deployed above\n",
    "# Use the same '<action_namespace>/<action_name>' as you did above for '--name'\n",
    "action = cortex.action('class/car-classifier-<your_initials>')"
   ]
  },
  {
   "cell_type": "markdown",
   "metadata": {},
   "source": [
    "The Action deployment status should say **COMPLETED**.  This will indicate that our Action is ready to invoke."
   ]
  },
  {
   "cell_type": "code",
   "execution_count": null,
   "metadata": {},
   "outputs": [],
   "source": [
    "action.get_deployment_status()"
   ]
  },
  {
   "cell_type": "markdown",
   "metadata": {},
   "source": [
    "We are creating a test payload with properties to send to our action for testing. The payload contains a link to an image, and the API Key is stored in the properties.\n",
    "\n",
    "Make sure to replace 'your_api_key' with the API Key you received from Algorithmia."
   ]
  },
  {
   "cell_type": "code",
   "execution_count": null,
   "metadata": {},
   "outputs": [],
   "source": [
    "payload_with_properties={\n",
    " \"payload\": {'image_url': 'https://www.cars.com/cstatic-images/car-pictures/xl/usc70toc041g021001.png'},\n",
    " \"properties\": {'api_key' : '<your_api_key>'}\n",
    "}\n",
    "\n",
    "invoke_message = Message(payload_with_properties)"
   ]
  },
  {
   "cell_type": "markdown",
   "metadata": {},
   "source": [
    "Invoke the Action using a Message object.  Here we just pass in the expected _text_ parameter in the Message payload."
   ]
  },
  {
   "cell_type": "code",
   "execution_count": null,
   "metadata": {},
   "outputs": [],
   "source": [
    "from cortex import Message\n",
    "rs = action.invoke(invoke_message)\n",
    "rs.payload"
   ]
  },
  {
   "cell_type": "markdown",
   "metadata": {},
   "source": [
    "## Building a Cortex Skill\n",
    "Now that our Action is ready and tested, we can move on to building a Cortex Skill.  In this simple example, our Skill will just pipe an Input to our Action and route the Output back to the caller."
   ]
  },
  {
   "cell_type": "code",
   "execution_count": null,
   "metadata": {},
   "outputs": [],
   "source": [
    "builder = cortex.builder()"
   ]
  },
  {
   "cell_type": "markdown",
   "metadata": {},
   "source": [
    "The _builder_ has multiple entry points, we use the _skill_ method here to declare a new \"Hello World\" Skill.  Each _builder_ method returns an instance of the builder so we can chain calls together.  \n",
    "\n",
    "Make sure to replace 'your_initials' with your initials to prevent namespace issues."
   ]
  },
  {
   "cell_type": "code",
   "execution_count": null,
   "metadata": {},
   "outputs": [],
   "source": [
    "b = builder.skill('class/car-classifier-<your_initials>').title('Car Classifier-<your_initials>').description('Returns the make and model of a car from a given URL by <your_name>')"
   ]
  },
  {
   "cell_type": "markdown",
   "metadata": {},
   "source": [
    "Next, we use the Input sub-builder to construct our Skill Input.  This is where we declare how our Input will route messages.  In this simple case, we use the _all_ routing which routes all input messages to same Action for processing and declares wich Output to route Action outputs to.  We pass in our Action from the previous section to wire the Skill to the Action (we could have also passed in the Action name here).  Calling _build_ on the Input will create the input object, add it to the Skill builder, and return the Skill builder."
   ]
  },
  {
   "cell_type": "code",
   "execution_count": null,
   "metadata": {},
   "outputs": [],
   "source": [
    "b = b.input('image-url').title('Image URL').parameter(name='image_url', type='string').all_routing(action, 'result').build()"
   ]
  },
  {
   "cell_type": "code",
   "execution_count": null,
   "metadata": {},
   "outputs": [],
   "source": [
    "b = b.property(name = 'api_key', data_type = 'string', title = 'API Key', description = 'Your API Key from Algorithmia', secure = True)"
   ]
  },
  {
   "cell_type": "markdown",
   "metadata": {},
   "source": [
    "In the previous step, we referenced an Output called **greeting**.  We can create that Output here using the Output sub-builder."
   ]
  },
  {
   "cell_type": "code",
   "execution_count": null,
   "metadata": {},
   "outputs": [],
   "source": [
    "b = b.output('result').title('Result').parameter(name='result', type='object').build()"
   ]
  },
  {
   "cell_type": "markdown",
   "metadata": {},
   "source": [
    "## Preview the CAMEL Document\n",
    "We can preview the CAMEL document that each builder will create using the _to_camel_ method."
   ]
  },
  {
   "cell_type": "code",
   "execution_count": null,
   "metadata": {},
   "outputs": [],
   "source": [
    "b.to_camel()"
   ]
  },
  {
   "cell_type": "markdown",
   "metadata": {},
   "source": [
    "## Final Build and Publish\n",
    "We are now ready to build and publish our Skill."
   ]
  },
  {
   "cell_type": "code",
   "execution_count": null,
   "metadata": {},
   "outputs": [],
   "source": [
    "skill = b.build()\n",
    "print('%s (%s) v%d' % (skill.title, skill.name, skill.version))"
   ]
  },
  {
   "cell_type": "markdown",
   "metadata": {},
   "source": [
    "Make sure to replace 'your_api_key' with the API Key yoou received from Algorithmia"
   ]
  },
  {
   "cell_type": "code",
   "execution_count": null,
   "metadata": {},
   "outputs": [],
   "source": [
    "payload_with_properties={\n",
    " \"payload\": {'image_url': 'https://www.cars.com/cstatic-images/car-pictures/xl/usc70toc041g021001.png'},\n",
    " \"properties\": {'api_key' : '<your_api_key>'}\n",
    "}"
   ]
  },
  {
   "cell_type": "code",
   "execution_count": null,
   "metadata": {},
   "outputs": [],
   "source": [
    "rs = skill.invoke(input_name='image-url', message=Message(payload_with_properties))\n",
    "rs.payload"
   ]
  }
 ],
 "metadata": {
  "kernelspec": {
   "display_name": "Python 3",
   "language": "python",
   "name": "python3"
  },
  "language_info": {
   "codemirror_mode": {
    "name": "ipython",
    "version": 3
   },
   "file_extension": ".py",
   "mimetype": "text/x-python",
   "name": "python",
   "nbconvert_exporter": "python",
   "pygments_lexer": "ipython3",
   "version": "3.7.1"
  }
 },
 "nbformat": 4,
 "nbformat_minor": 2
}
