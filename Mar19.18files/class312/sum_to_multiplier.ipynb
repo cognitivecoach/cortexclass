{
 "cells": [
  {
   "cell_type": "markdown",
   "metadata": {},
   "source": [
    "# Building the Sum to Multiplier Skill\n",
    "This notebook demonstrates how to build a skill which will invoke another from within itself. First we will create a multiplier action, and we will not wrap this into a skill yet. Once we create that action, we will create the sum_to_multiplier skill, which will call upon the multiplier action from within itself in order to retrieve its output"
   ]
  },
  {
   "cell_type": "code",
   "execution_count": null,
   "metadata": {},
   "outputs": [],
   "source": [
    "# Common Setup\n",
    "%run setup.ipynb"
   ]
  },
  {
   "cell_type": "markdown",
   "metadata": {},
   "source": [
    "## Building a Cortex Action using iPython Magic\n",
    "The Cortex Action is a self-contained code modeule that encapsulates a task - in other words, it is a function in computer science terms.  It can be a short running service, long running batch job, or stateful microservice.  For our simple \"Hello World\" example, we can create our Action using a function and leverage the __%%cortex_action__ iPython cell magic to automatically deploy it to the Cortex Cloud."
   ]
  },
  {
   "cell_type": "markdown",
   "metadata": {},
   "source": [
    "This pushes the action to the c12e private registry for your tenant. \n",
    "\n",
    "The multiplier action simply takes two numbers and returns their product"
   ]
  },
  {
   "cell_type": "code",
   "execution_count": null,
   "metadata": {},
   "outputs": [],
   "source": [
    "%%cortex_action --name 'class/multiplier-<your_initials>' --function multiplier\n",
    "\n",
    "from cortex import Message, Cortex\n",
    "\n",
    "def multiplier(params):\n",
    "    msg = Message(params)\n",
    "    num1 = msg.payload.get('num1')\n",
    "    num2 = msg.payload.get('num2')\n",
    "    return Message.with_payload({'result': num1*num2}).to_params()"
   ]
  },
  {
   "cell_type": "markdown",
   "metadata": {},
   "source": [
    "Now we will create the sum_to_multiplier skill. This will call upon the multiplier action, and will need our token in order to be authenticated. It will return the sum of the two input numbers, as well as the output from the multiplier action which is the product of the same two numbers."
   ]
  },
  {
   "cell_type": "code",
   "execution_count": null,
   "metadata": {},
   "outputs": [],
   "source": [
    "%%cortex_action --name 'class/sum_to_multiplier-<your_initials>' --function car_classifier\n",
    "\n",
    "from cortex import Message, Cortex\n",
    "\n",
    "def car_classifier(params):\n",
    "    \n",
    "    msg = Message(params)\n",
    "    \n",
    "    num1 = msg.payload.get('num1')\n",
    "    num2 = msg.payload.get('num2')\n",
    "    \n",
    "    sum = num1+num2\n",
    "    \n",
    "    #We need to enter your token in order to be authneticated by Cortex to call upon the demo/multiplier action\n",
    "    cortex = Cortex.client(api_endpoint = msg.apiEndpoint, token = msg.token)\n",
    "    \n",
    "    #Set our action invocation to be on the multiplier function\n",
    "    action = cortex.action('class/multiplier-<your_initials>')\n",
    "    \n",
    "    #Create the payload and invoke the multiplier function\n",
    "    rs = action.invoke(Message.with_payload({'num1' : num1, 'num2' : num2}))\n",
    "    \n",
    "    #Return the result of the product to this function from multiplier\n",
    "    result = rs.payload.get('result')\n",
    "    \n",
    "    #Set the sum and product to a stirng to ease of readability when this function outputs them\n",
    "    output = \"Sum: \" + str(sum) + \", Product: \" + str(result)\n",
    "    \n",
    "    return Message.with_payload({'Result': output}).to_params()"
   ]
  },
  {
   "cell_type": "markdown",
   "metadata": {},
   "source": [
    "### Testing Actions\n",
    "Using the Cortex client, we can test our Action to make sure it deployed properly."
   ]
  },
  {
   "cell_type": "code",
   "execution_count": null,
   "metadata": {},
   "outputs": [],
   "source": [
    "# Instantiate Cortex Client\n",
    "cortex = Cortex.client()\n",
    "action = cortex.action('class/sum_to_multiplier-<your_initials>')"
   ]
  },
  {
   "cell_type": "markdown",
   "metadata": {},
   "source": [
    "The Action deployment status should say **COMPLETED**.  This will indicate that our Action is ready to invoke."
   ]
  },
  {
   "cell_type": "code",
   "execution_count": null,
   "metadata": {},
   "outputs": [],
   "source": [
    "action.get_deployment_status()"
   ]
  },
  {
   "cell_type": "markdown",
   "metadata": {},
   "source": [
    "Invoke the Action using a Message object.  Here we will pass two numbers in, which will first be used by the original skill (sum_to_multiplier) then passed to the multiplier skill and finally will output the result of both."
   ]
  },
  {
   "cell_type": "code",
   "execution_count": null,
   "metadata": {},
   "outputs": [],
   "source": [
    "#Test payload\n",
    "\n",
    "from cortex import Message\n",
    "rs = action.invoke(Message.with_payload({'num1' : 30, 'num2' : 22}))\n",
    "rs.payload.get('Result')"
   ]
  },
  {
   "cell_type": "markdown",
   "metadata": {},
   "source": [
    "## Building a Cortex Skill\n",
    "Now that our Action is ready and tested, we can move on to building a Cortex Skill.  In this simple example, our Skill will just pipe an Input to our Action and route the Output back to the caller."
   ]
  },
  {
   "cell_type": "code",
   "execution_count": null,
   "metadata": {},
   "outputs": [],
   "source": [
    "builder = cortex.builder()"
   ]
  },
  {
   "cell_type": "markdown",
   "metadata": {},
   "source": [
    "The _builder_ has multiple entry points, we use the _skill_ method here to declare a new \"Sum to Multiplier\" Skill.  Each _builder_ method returns an instance of the builder so we can chain calls together.  "
   ]
  },
  {
   "cell_type": "code",
   "execution_count": null,
   "metadata": {},
   "outputs": [],
   "source": [
    "b = builder.skill('class/sum_to_multiplier-<your_initials>').title('Sum to Multiplier-<your_initials>').description('Invoking a skill from within another skill. Takes two numbers and returns the sum and calls another skill to return the product.')"
   ]
  },
  {
   "cell_type": "markdown",
   "metadata": {},
   "source": [
    "Next, we use the Input sub-builder to construct our Skill Input.  This is where we declare how our Input will route messages.  In this simple case, we use the _all_ routing which routes all input messages to same Action for processing and declares wich Output to route Action outputs to.  We pass in our Action from the previous section to wire the Skill to the Action (we could have also passed in the Action name here).  Calling _build_ on the Input will create the input object, add it to the Skill builder, and return the Skill builder."
   ]
  },
  {
   "cell_type": "code",
   "execution_count": null,
   "metadata": {},
   "outputs": [],
   "source": [
    "b = b.input('numbers').title('Numbers').parameter(name='num1', type='number').parameter(name='num2', type='number').all_routing(action, 'output').build()"
   ]
  },
  {
   "cell_type": "markdown",
   "metadata": {},
   "source": [
    "In the previous step, we referenced an Output called **output**.  We can create that Output here using the Output sub-builder."
   ]
  },
  {
   "cell_type": "code",
   "execution_count": null,
   "metadata": {},
   "outputs": [],
   "source": [
    "b = b.output('output').title('Result').parameter(name='Result', type='string').build()"
   ]
  },
  {
   "cell_type": "markdown",
   "metadata": {},
   "source": [
    "## Preview the CAMEL Document\n",
    "We can preview the CAMEL document that each builder will create using the _to_camel_ method."
   ]
  },
  {
   "cell_type": "code",
   "execution_count": null,
   "metadata": {},
   "outputs": [],
   "source": [
    "b.to_camel()"
   ]
  },
  {
   "cell_type": "markdown",
   "metadata": {},
   "source": [
    "## Final Build and Publish\n",
    "We are now ready to build and publish our Skill."
   ]
  },
  {
   "cell_type": "code",
   "execution_count": null,
   "metadata": {},
   "outputs": [],
   "source": [
    "skill = b.build()\n",
    "print('%s (%s) v%d' % (skill.title, skill.name, skill.version))"
   ]
  },
  {
   "cell_type": "code",
   "execution_count": null,
   "metadata": {},
   "outputs": [],
   "source": [
    "rs = skill.invoke(input_name='numbers', message=Message.with_payload({\"num1\":22, \"num2\":35}))\n",
    "rs.payload"
   ]
  }
 ],
 "metadata": {
  "kernelspec": {
   "display_name": "Python 3",
   "language": "python",
   "name": "python3"
  },
  "language_info": {
   "codemirror_mode": {
    "name": "ipython",
    "version": 3
   },
   "file_extension": ".py",
   "mimetype": "text/x-python",
   "name": "python",
   "nbconvert_exporter": "python",
   "pygments_lexer": "ipython3",
   "version": "3.7.1"
  }
 },
 "nbformat": 4,
 "nbformat_minor": 2
}
