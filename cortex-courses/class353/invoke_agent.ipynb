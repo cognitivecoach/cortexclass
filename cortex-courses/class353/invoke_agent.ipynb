{
 "cells": [
  {
   "cell_type": "markdown",
   "metadata": {
    "slideshow": {
     "slide_type": "-"
    }
   },
   "source": [
    "# Building the Invoke Agent Skill\n",
    "This notebook demonstrates how to use the Cortex Python SDK to build a skill which will invoke an Agent. It will take two input numbers, call upon the sum-returner agent, and return their sum. "
   ]
  },
  {
   "cell_type": "code",
   "execution_count": null,
   "metadata": {},
   "outputs": [],
   "source": [
    "# Common Setup\n",
    "%run setup.ipynb\n",
    "cortex = Cortex.client()\n",
    "builder = cortex.builder()"
   ]
  },
  {
   "cell_type": "markdown",
   "metadata": {},
   "source": [
    "## Define the invoke_agent function\n",
    "\n",
    "This function is broken up into two functions for readbility, invoke_agent and call_agent. invoke_agent takes two numbers as input, and passes them to call_agent. call_agent creates a JSON payload from the numbers, and then initializes the Cortex client with the users token in order to invoke the sum-returner agent. It passes the payload to this agent and gets the result, returning it to the original function: invoke_agent. invoke_agent finally returns the result."
   ]
  },
  {
   "cell_type": "code",
   "execution_count": null,
   "metadata": {},
   "outputs": [],
   "source": [
    "%%cortex_action --name 'class/invoke_agent-<your_initials>' --function invoke_agent\n",
    "from cortex import Message\n",
    "\n",
    "def invoke_agent(params):\n",
    "    msg = Message(params)\n",
    "    num1 = msg.payload.get('num1')\n",
    "    num2 = msg.payload.get('num2')\n",
    "    \n",
    "    result = call_agent(num1, num2, msg.apiEndpoint, msg.token)\n",
    "    \n",
    "    return Message.with_payload({'Result': result}).to_params()\n",
    "\n",
    "def call_agent(num1, num2, url, token):\n",
    "    from cortex import Cortex\n",
    "    \n",
    "    cortex = Cortex.client(api_endpoint = url, token=token)\n",
    "    agent = cortex.agent(\"default/calculate-sum-<your_initials>\")\n",
    "    \n",
    "    rs = agent.invoke_service(\"calculate-sum-<your_initials>\", Message.with_payload({'num1': 10, 'num2' :15}))\n",
    "    res = rs.payload.get('Sum')\n",
    "    \n",
    "    return res"
   ]
  },
  {
   "cell_type": "markdown",
   "metadata": {},
   "source": [
    "Build and Deploy Action"
   ]
  },
  {
   "cell_type": "markdown",
   "metadata": {},
   "source": [
    "### Testing Actions\n",
    "Using the Cortex client, we can test our Action to make sure it deployed properly."
   ]
  },
  {
   "cell_type": "code",
   "execution_count": null,
   "metadata": {},
   "outputs": [],
   "source": [
    "# Instantiate Cortex Client\n",
    "cortex = Cortex.client()\n",
    "\n",
    "# Retrieve our Action that was deployed above\n",
    "action = cortex.action('class/invoke_agent-<your_initials>')"
   ]
  },
  {
   "cell_type": "markdown",
   "metadata": {},
   "source": [
    "The Action deployment status should say **COMPLETED**.  This will indicate that our Action is ready to invoke."
   ]
  },
  {
   "cell_type": "code",
   "execution_count": null,
   "metadata": {},
   "outputs": [],
   "source": [
    "action.get_deployment_status()"
   ]
  },
  {
   "cell_type": "markdown",
   "metadata": {},
   "source": [
    "Invoke the Action using a Message object.  Here we just pass in the expected _eq_ parameter in the Message payload."
   ]
  },
  {
   "cell_type": "code",
   "execution_count": null,
   "metadata": {},
   "outputs": [],
   "source": [
    "from cortex import Message\n",
    "rs = action.invoke(Message.with_payload({'num1':10, 'num2':22}))\n",
    "rs.payload"
   ]
  },
  {
   "cell_type": "markdown",
   "metadata": {},
   "source": [
    "## Building a Cortex Skill\n",
    "Now that our Action is ready and tested, we can move on to building a Cortex Skill.  In this simple example, our Skill will just pipe an Input to our Action and route the Output back to the caller."
   ]
  },
  {
   "cell_type": "code",
   "execution_count": null,
   "metadata": {},
   "outputs": [],
   "source": [
    "builder = cortex.builder()"
   ]
  },
  {
   "cell_type": "markdown",
   "metadata": {},
   "source": [
    "The _builder_ has multiple entry points, we use the _skill_ method here to declare a new \"Invoke Agent\" Skill.  Each _builder_ method returns an instance of the builder so we can chain calls together.  "
   ]
  },
  {
   "cell_type": "code",
   "execution_count": null,
   "metadata": {},
   "outputs": [],
   "source": [
    "b = builder.skill('class/invoke-agent-<your_initials>').title('Invoke Agent-<your_initials>').description('Skill which invokes the Sum Returner agent. This agent will take the two numbers from the skill, and return the sum as a json object.')"
   ]
  },
  {
   "cell_type": "markdown",
   "metadata": {},
   "source": [
    "Next, we use the Input sub-builder to construct our Skill Input.  This is where we declare how our Input will route messages.  In this simple case, we use the _all_ routing which routes all input messages to same Action for processing and declares wich Output to route Action outputs to.  We pass in our Action from the previous section to wire the Skill to the Action (we could have also passed in the Action name here).  Calling _build_ on the Input will create the input object, add it to the Skill builder, and return the Skill builder."
   ]
  },
  {
   "cell_type": "code",
   "execution_count": null,
   "metadata": {},
   "outputs": [],
   "source": [
    "b = b.input('numbers').title('Input Numbers').parameter(name='num1', type='number').parameter(name='num2',type='number').all_routing(action, 'result').build()\n"
   ]
  },
  {
   "cell_type": "markdown",
   "metadata": {},
   "source": [
    "In the previous step, we referenced an Output called **result**.  We can create that Output here using the Output sub-builder."
   ]
  },
  {
   "cell_type": "code",
   "execution_count": null,
   "metadata": {},
   "outputs": [],
   "source": [
    "b = b.output('result').title('Result').parameter(name='Result', type='number').build()"
   ]
  },
  {
   "cell_type": "markdown",
   "metadata": {},
   "source": [
    "## Preview the CAMEL Document\n",
    "We can preview the CAMEL document that each builder will create using the _to_camel_ method."
   ]
  },
  {
   "cell_type": "code",
   "execution_count": null,
   "metadata": {},
   "outputs": [],
   "source": [
    "b.to_camel()"
   ]
  },
  {
   "cell_type": "markdown",
   "metadata": {},
   "source": [
    "## Final Build and Publish\n",
    "We are now ready to build and publish our Skill."
   ]
  },
  {
   "cell_type": "code",
   "execution_count": null,
   "metadata": {},
   "outputs": [],
   "source": [
    "skill = b.build()\n",
    "print('%s (%s) v%d' % (skill.title, skill.name, skill.version))"
   ]
  },
  {
   "cell_type": "code",
   "execution_count": null,
   "metadata": {},
   "outputs": [],
   "source": [
    "rs = skill.invoke(input_name='numbers', message=Message.with_payload({'num1': 12500, 'num2':3}))\n",
    "rs.payload"
   ]
  },
  {
   "cell_type": "code",
   "execution_count": null,
   "metadata": {},
   "outputs": [],
   "source": [
    "def invoke_again():\n",
    "    \n",
    "    agent = cortex.agent(\"default/calculate-sum-<your_initials>\")\n",
    "    rs= agent.invoke_service(\"calculate-sum-<your_initials>\", Message.with_payload({'num1' : 10, 'num2' : 15}))\n",
    "    print(rs.payload.get('Sum'))\n",
    "          \n",
    "invoke_again()"
   ]
  }
 ],
 "metadata": {
  "kernelspec": {
   "display_name": "Python 3",
   "language": "python",
   "name": "python3"
  },
  "language_info": {
   "codemirror_mode": {
    "name": "ipython",
    "version": 3
   },
   "file_extension": ".py",
   "mimetype": "text/x-python",
   "name": "python",
   "nbconvert_exporter": "python",
   "pygments_lexer": "ipython3",
   "version": "3.6.6"
  }
 },
 "nbformat": 4,
 "nbformat_minor": 2
}
