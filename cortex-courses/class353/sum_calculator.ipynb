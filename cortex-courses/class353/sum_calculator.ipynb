{
 "cells": [
  {
   "cell_type": "markdown",
   "metadata": {},
   "source": [
    "# Building the Sum Calculator Skill\n",
    "This notebook demonstrates how to use the Cortex Python SDK to build a skill which will invoke an Agent. It will be put into an agent, and when invoked will return the sum of two numbers back to it's calling skill."
   ]
  },
  {
   "cell_type": "code",
   "execution_count": null,
   "metadata": {},
   "outputs": [],
   "source": [
    "# Common Setup\n",
    "%run setup.ipynb"
   ]
  },
  {
   "cell_type": "markdown",
   "metadata": {},
   "source": [
    "We are going to create the sum_returner function. This function will take two numbers as inputs, and return their sum as a json object. This is a very simple skill, which we plan on turning into an Agent so that we can invoke it from another skill. When an input service is created for an agent, a REST API URL is generated, which gives us an access point to invoke it. "
   ]
  },
  {
   "cell_type": "code",
   "execution_count": null,
   "metadata": {},
   "outputs": [],
   "source": [
    "%%cortex_action --name 'class/calculate-sum-<your_initials>' --function calculate_sum\n",
    "\n",
    "from cortex import Message\n",
    "\n",
    "def calculate_sum(params):\n",
    "    msg = Message(params)\n",
    "    num1 = msg.payload.get('num1')\n",
    "    num2 = msg.payload.get('num2')\n",
    "    \n",
    "    sum = num1+num2\n",
    "    \n",
    "    return Message.with_payload({'Sum': sum}).to_params()"
   ]
  },
  {
   "cell_type": "markdown",
   "metadata": {},
   "source": [
    "### Testing Actions\n",
    "Using the Cortex client, we can test our Action to make sure it deployed properly."
   ]
  },
  {
   "cell_type": "code",
   "execution_count": null,
   "metadata": {},
   "outputs": [],
   "source": [
    "# Instantiate Cortex Client\n",
    "cortex = Cortex.client()\n",
    "\n",
    "# Retrieve our Action that was deployed above\n",
    "# Use the same '<action_namespace>/<action_name>' as you did above for '--name'\n",
    "action = cortex.action('class/calculate-sum-<your_initials>')"
   ]
  },
  {
   "cell_type": "markdown",
   "metadata": {},
   "source": [
    "The Action deployment status should say **COMPLETED**.  This will indicate that our Action is ready to invoke."
   ]
  },
  {
   "cell_type": "code",
   "execution_count": null,
   "metadata": {},
   "outputs": [],
   "source": [
    "action.get_deployment_status()"
   ]
  },
  {
   "cell_type": "markdown",
   "metadata": {},
   "source": [
    "Invoke the Action using a Message object.  Here we will pass two numbers as input, which will be used to calculate the sum and be returned."
   ]
  },
  {
   "cell_type": "code",
   "execution_count": null,
   "metadata": {},
   "outputs": [],
   "source": [
    "from cortex import Message\n",
    "rs = action.invoke(Message.with_payload({'num1' : 10, 'num2' : 15}))\n",
    "rs.payload"
   ]
  },
  {
   "cell_type": "markdown",
   "metadata": {},
   "source": [
    "## Building a Cortex Skill\n",
    "Now that our Action is ready and tested, we can move on to building a Cortex Skill.  In this simple example, our Skill will just pipe an Input to our Action and route the Output back to the caller."
   ]
  },
  {
   "cell_type": "code",
   "execution_count": null,
   "metadata": {},
   "outputs": [],
   "source": [
    "builder = cortex.builder()"
   ]
  },
  {
   "cell_type": "markdown",
   "metadata": {},
   "source": [
    "The _builder_ has multiple entry points, we use the _skill_ method here to declare a new \"Sum Calculator\" Skill.  Each _builder_ method returns an instance of the builder so we can chain calls together.  "
   ]
  },
  {
   "cell_type": "code",
   "execution_count": null,
   "metadata": {},
   "outputs": [],
   "source": [
    "b = builder.skill('class/calculate-sum-<your_initials>').title('Sum Calculator-<your_initials>').description('Takes in two numbers and calculates their sum.')"
   ]
  },
  {
   "cell_type": "markdown",
   "metadata": {},
   "source": [
    "Next, we use the Input sub-builder to construct our Skill Input.  This is where we declare how our Input will route messages.  In this simple case, we use the _all_ routing which routes all input messages to same Action for processing and declares wich Output to route Action outputs to.  We pass in our Action from the previous section to wire the Skill to the Action (we could have also passed in the Action name here).  Calling _build_ on the Input will create the input object, add it to the Skill builder, and return the Skill builder."
   ]
  },
  {
   "cell_type": "code",
   "execution_count": null,
   "metadata": {},
   "outputs": [],
   "source": [
    "b = b.input('numbers').title('Input Numbers').parameter(name='num1', type='number').parameter(name='num2', type='number').all_routing(action, 'sum').build()"
   ]
  },
  {
   "cell_type": "markdown",
   "metadata": {},
   "source": [
    "In the previous step, we referenced an Output called **sum**.  We can create that Output here using the Output sub-builder."
   ]
  },
  {
   "cell_type": "code",
   "execution_count": null,
   "metadata": {},
   "outputs": [],
   "source": [
    "b = b.output('sum').title('Sum').parameter(name='Sum', type='string').build()"
   ]
  },
  {
   "cell_type": "markdown",
   "metadata": {},
   "source": [
    "## Preview the CAMEL Document\n",
    "We can preview the CAMEL document that each builder will create using the _to_camel_ method."
   ]
  },
  {
   "cell_type": "code",
   "execution_count": null,
   "metadata": {},
   "outputs": [],
   "source": [
    "b.to_camel()"
   ]
  },
  {
   "cell_type": "markdown",
   "metadata": {},
   "source": [
    "## Final Build and Publish\n",
    "We are now ready to build and publish our Skill."
   ]
  },
  {
   "cell_type": "code",
   "execution_count": null,
   "metadata": {},
   "outputs": [],
   "source": [
    "skill = b.build()\n",
    "print('%s (%s) v%d' % (skill.title, skill.name, skill.version))"
   ]
  }
 ],
 "metadata": {
  "kernelspec": {
   "display_name": "Python 3",
   "language": "python",
   "name": "python3"
  },
  "language_info": {
   "codemirror_mode": {
    "name": "ipython",
    "version": 3
   },
   "file_extension": ".py",
   "mimetype": "text/x-python",
   "name": "python",
   "nbconvert_exporter": "python",
   "pygments_lexer": "ipython3",
   "version": "3.6.6"
  }
 },
 "nbformat": 4,
 "nbformat_minor": 2
}
